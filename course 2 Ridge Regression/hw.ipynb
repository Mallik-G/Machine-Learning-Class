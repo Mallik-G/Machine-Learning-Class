{
 "cells": [
  {
   "cell_type": "markdown",
   "metadata": {},
   "source": [
    "# Task 1 (5% credit) \n",
    "Provide a definition for the concept of a conjugate prior given the Bayesian learning model. What is the conjugate prior for the univariate linear regression $y\\sim {\\cal N}(wx,\\sigma^2)$ with a fixed $\\sigma$?"
   ]
  },
  {
   "cell_type": "markdown",
   "metadata": {},
   "source": [
    "## Answer\n",
    "In Bayesian probability theory, if the posterior distributions p(θ|x) are in the same family as the prior probability distribution p(θ), the prior and posterior are then called conjugate distributions, and the prior is called a conjugate prior for the likelihood function.\n",
    "\n",
    "$w\\sim {\\cal N}(w^*,\\sigma^*)$ \n"
   ]
  },
  {
   "cell_type": "markdown",
   "metadata": {},
   "source": [
    "# Task 2 (5% credit). \n",
    "Which prior in the Bayesian linear regression framework leads to: a) Ridge regression, b) Lasso regression?"
   ]
  },
  {
   "cell_type": "markdown",
   "metadata": {},
   "source": [
    "## Answer\n",
    "\n",
    "An important particular case of all the components of $w$ having the same prior $w_j\\sim{\\cal N}(0,\\sigma/\\sqrt{\\lambda})$ leads to\n",
    "\n",
    "$$\n",
    "\\hat{w}=argmin_w\\left[RSS(w)+\\lambda||w||_2^2\\right]\\hspace{5ex}\n",
    "$$\n",
    "\n",
    "where $||w||_2=\\sqrt{\\sum\\limits_j w_j^2}$, known as Ridge regression.\n",
    "\n",
    "An alternative choice of the Laplacian prior distribution $p(w_j)\\sim e^{-\\lambda|w_j|/\\sigma}$ leads to  \n",
    "$$\n",
    "\\hat{w}=argmin_w\\left[RSS(w)+\\lambda||w||_1\\right],\\hspace{5ex}\n",
    "$$\n",
    "where $||w||_1=\\sum\\limits_j |w_j|$, known as Lasso (least absolute shrinkage and selection operator) regression."
   ]
  },
  {
   "cell_type": "markdown",
   "metadata": {},
   "source": [
    "# Task 3 (10% credit). \n",
    "Answer some questions about the properties of Lasso/Ridge:\n",
    "\n",
    "a) Which of the Lasso and Ridge regressions possess an analytic solution in the closed form?\n",
    "\n",
    "b) Which of the Lasso and Ridge regressions often use to completely eliminate coefficients for some of the regressors?\n",
    "\n",
    "c) Which value of $\\lambda$ makes Lasso and Ridge identical to the ordinary least square regression?\n",
    "\n",
    "d) What dataset (training, validation or test) you would use to estimate the $\\lambda$ for Lasso or Ridge?"
   ]
  },
  {
   "cell_type": "markdown",
   "metadata": {},
   "source": [
    "## Answer\n",
    "\n",
    "a) Ridge regressions\n",
    "\n",
    "b) Lasso regressions\n",
    "\n",
    "c) When  $\\lambda$ = 0\n",
    "\n",
    "d) Validation data"
   ]
  },
  {
   "cell_type": "markdown",
   "metadata": {},
   "source": [
    "# Task 4 (15% credit). \n",
    "Consider a Bayesian univariate linear regression $y\\sim {\\cal N}(wx,\\sigma^2)$ with a given $\\sigma=1$ and the prior $w\\sim {\\cal N}(5,1)$. Compute the posterior distribution after an observation $y=12,x=2$. After all, what is the probability of having $w<5$?"
   ]
  },
  {
   "cell_type": "markdown",
   "metadata": {},
   "source": [
    "## Answer\n",
    "\n",
    "$$\n",
    "p(w|Y, X)\\sim e^{-w^2 \\frac{\\sum_i x_i^2(\\sigma^*)^2+\\sigma^2}{2\\sigma^2(\\sigma^*)^2}+w \\frac{(\\sigma^*)^2 \\sum_i y_i x_i+\\sigma^2 w^*}{2\\sigma^2(\\sigma^*)^2}}\\sim e^{\\frac{\\left(w-\\frac{ \\sigma^{-2} \\sum_i y_i x_i +(\\sigma^*)^{-2} w^*}{\\left(\\sum_i x_i^2\\sigma^{-2}+(\\sigma^*)^{-2}\\right)}\\right)^2}{\\frac{2}{(\\sigma^*)^{-2}+\\sum_i x_i^2\\sigma^{-2}}}}\\sim\n",
    "$$\n",
    "\n",
    "$$\n",
    "\\sim {\\cal N}\\left(\\frac{ \\sigma^{-2} \\sum_i y_i x_i +(\\sigma^*)^{-2} w^*}{\\left(\\sum_i x_i^2\\sigma^{-2}+(\\sigma^*)^{-2}\\right)},\n",
    "\\frac{1}{\\sqrt{(\\sigma^*)^{-2}+\\sum_i x_i^2\\sigma^{-2}}}\\right)\n",
    "$$\n",
    "\n",
    "$$\n",
    "\\sim {\\cal N}(29/5,1/\\sqrt{5})\n",
    "$$\n"
   ]
  },
  {
   "cell_type": "code",
   "execution_count": 2,
   "metadata": {
    "collapsed": false
   },
   "outputs": [
    {
     "name": "stdout",
     "output_type": "stream",
     "text": [
      "The probability of having w <5 is 0.0368147549388\n"
     ]
    }
   ],
   "source": [
    "import scipy.stats\n",
    "a = scipy.stats.norm(5.8,0.4472).cdf(5)\n",
    "print \"The probability of having w <5 is\", a"
   ]
  },
  {
   "cell_type": "markdown",
   "metadata": {},
   "source": [
    "# Task 5 (20% credit). \n",
    "For the training and test sets provided below, train a linear regression of $y$ (last column) vs the rest of the columns of the table treated as regressors (intercept excluded) over the training set, apply it to the test set and report it's R2 performance over both - training and test set."
   ]
  },
  {
   "cell_type": "code",
   "execution_count": 13,
   "metadata": {
    "collapsed": false
   },
   "outputs": [
    {
     "name": "stdout",
     "output_type": "stream",
     "text": [
      "Populating the interactive namespace from numpy and matplotlib\n"
     ]
    },
    {
     "name": "stderr",
     "output_type": "stream",
     "text": [
      "WARNING: pylab import has clobbered these variables: ['pylab']\n",
      "`%matplotlib` prevents importing * from pylab and numpy\n"
     ]
    }
   ],
   "source": [
    "%pylab inline\n",
    "import matplotlib.pyplot as plt\n",
    "import numpy as np\n",
    "import pandas as pd\n",
    "import pandas.io.data as web\n",
    "import Quandl\n",
    "import statsmodels.api as sm\n",
    "import statsmodels.formula.api as smf\n",
    "import pymc3 as pm\n",
    "from numpy import random\n",
    "import random as rnd\n",
    "from scipy import stats\n",
    "from pandas.stats.api import ols\n",
    "import pylab\n",
    "from sklearn import linear_model\n",
    "plt.rcParams[\"figure.figsize\"]=(10.0,8.0)\n",
    "import pandas as pd\n",
    "\n",
    "\n",
    "data_train=pd.read_csv(\"Homework1_training.csv\")\n",
    "data_test=pd.read_csv(\"Homework1_test.csv\")"
   ]
  },
  {
   "cell_type": "code",
   "execution_count": 14,
   "metadata": {
    "collapsed": false
   },
   "outputs": [
    {
     "name": "stdout",
     "output_type": "stream",
     "text": [
      "OLS regression coefficients=[  1.82388841e+10   4.42008105e+09   5.45534653e+09   1.93765326e+10\n",
      "  -9.42109928e+10   5.81451981e+10   4.61986926e+10   6.63398809e+10\n",
      "  -8.31135880e+10   1.07345196e+11  -8.68308443e+10  -2.43362141e+10\n",
      "   4.63607688e+10  -1.68098998e+10  -7.56879145e+10  -2.84901407e+10\n",
      "   7.56196833e+08   5.10018356e+10   2.98505792e+10   8.37203390e+10\n",
      "  -3.59251768e+10  -1.22547880e-01  -2.12567176e-01   8.06436224e-02\n",
      "   6.67765490e-02   1.54470347e-01  -3.62438319e-01  -4.39189555e-01\n",
      "  -3.15066655e-02   1.61247924e-01  -1.46697289e-01  -3.71505917e-02\n",
      "   6.23953761e-02  -1.80129304e-01   5.80177538e-04  -3.10143127e-01\n",
      "   5.12672304e-02  -1.24868511e-01   2.54563504e-01   2.14801869e-03\n",
      "  -3.52915527e+09]\n",
      "The R-squared we found for in-sample (IS) OLS is: 0.999999951338\n",
      "The R-squared we found for out-of-sample (OS) OLS is: -2.4010443973\n"
     ]
    }
   ],
   "source": [
    "# In the sample. (Only use training set)\n",
    "y_train=np.asarray(data_train.iloc[:,-1]) # make dependent variable\n",
    "X_train=np.asarray(data_train.iloc[:,1:-1]) #make independent variables\n",
    "\n",
    "result=ols(y=y_train,x=pd.DataFrame(X_train))\n",
    "R_2_IS=result.r2  # get R2\n",
    "\n",
    "#Out of sample \n",
    "y_test=np.asarray(data_test.iloc[:,-1]) # make dependent variable\n",
    "X_test=np.asarray(data_test.iloc[:,1:-1]) #make independent variables\n",
    "\n",
    "a=np.array(X_test)  #makes sure conver pd data to np array\n",
    "b=np.array(result.beta) #makes sure conver pd data to np array\n",
    "\n",
    "print('OLS regression coefficients={0}'.format(b))\n",
    "c=np.sum(a*b[0:-1],axis=1)+b[-1] #b is estimated coefficients, a is prediction data, b[-1] is intercept. This is for predicted y\n",
    "error=y_test-c # y_predict is real value, c is the value we guessed\n",
    "R_2_OS=1-error.var()/y_test.var() # this is out of sample R2\n",
    "\n",
    "print(\"The R-squared we found for in-sample (IS) OLS is: {0}\".format(R_2_IS))\n",
    "print(\"The R-squared we found for out-of-sample (OS) OLS is: {0}\".format(R_2_OS))"
   ]
  },
  {
   "cell_type": "markdown",
   "metadata": {},
   "source": [
    "# Task 6 (20% credit). \n",
    "Train Lasso and Ridge regressions using the training sample above with $\\lambda_{Ridge}=40000$ and $\\lambda_{Lasso}=40$ and report their performance over the test set."
   ]
  },
  {
   "cell_type": "code",
   "execution_count": 21,
   "metadata": {
    "collapsed": false,
    "scrolled": true
   },
   "outputs": [
    {
     "name": "stdout",
     "output_type": "stream",
     "text": [
      "The R-squared we found for IS Ridge is: 0.853278042856\n",
      "The R-squared we found for OS Ridge is: 0.656284514237\n"
     ]
    }
   ],
   "source": [
    "#For Ridge\n",
    "Ridge=linear_model.Ridge(fit_intercept=True,alpha=40000) #try Ridge with an arbitrary regularization parameter lambda=1\n",
    "\n",
    "Ridge.fit(X_train,y_train)\n",
    "# In the sample:\n",
    "p_IS=Ridge.predict(X_train)\n",
    "err_IS=p_IS-y_train\n",
    "R_2_IS_Ridge=1-np.var(err_IS)/np.var(y_train)\n",
    "print(\"The R-squared we found for IS Ridge is: {0}\".format(R_2_IS_Ridge))\n",
    "\n",
    "#Out of sample\n",
    "p_OS=Ridge.predict(X_test)\n",
    "err_OS=p_OS-y_test\n",
    "R_2_OS_Ridge=1-np.var(err_OS)/np.var(y_test)\n",
    "print(\"The R-squared we found for OS Ridge is: {0}\".format(R_2_OS_Ridge))"
   ]
  },
  {
   "cell_type": "code",
   "execution_count": 22,
   "metadata": {
    "collapsed": false
   },
   "outputs": [
    {
     "name": "stdout",
     "output_type": "stream",
     "text": [
      "The R-squared we found for IS Lasso is: 0.853278042856\n",
      "The R-squared we found for OS Lasso is: 0.651017455205\n"
     ]
    }
   ],
   "source": [
    "#For Lasso\n",
    "Lasso=linear_model.Lasso(fit_intercept=True,alpha=40) #try Ridge with a selected regularization parameter lambda\n",
    "\n",
    "Lasso.fit(X_train,y_train)\n",
    "# In the sample:\n",
    "p_IS=Lasso.predict(X_train)\n",
    "err_IS=p_IS-y_train\n",
    "R_2_IS_Lasso=1-np.var(err_IS)/np.var(y_train)\n",
    "print(\"The R-squared we found for IS Lasso is: {0}\".format(R_2_IS_Ridge))\n",
    "    \n",
    "#Out of sample\n",
    "p_OS=Lasso.predict(X_test)\n",
    "err_OS=p_OS-y_test\n",
    "R_2_OS_Lasso=1-np.var(err_OS)/np.var(y_test)\n",
    "print(\"The R-squared we found for OS Lasso is: {0}\".format(R_2_OS_Lasso))"
   ]
  },
  {
   "cell_type": "markdown",
   "metadata": {},
   "source": [
    "# Task 7 (25% credit). \n",
    "For each $m=1,2,...39$ train OLS, Lasso and Ridge regressions using the training sample above with $\\lambda_{Ridge}=40000$ and $\\lambda_{Lasso}=40$ using the first $m$ columns of the data tables as the regressors and plot the in-sample (training) and out-of-sample (test) R2 for all three models on the same graph."
   ]
  },
  {
   "cell_type": "code",
   "execution_count": 25,
   "metadata": {
    "collapsed": false
   },
   "outputs": [
    {
     "data": {
      "image/png": "[encoded data removed]",
      "text/plain": [
       "<matplotlib.figure.Figure at 0x109d96e90>"
      ]
     },
     "metadata": {},
     "output_type": "display_data"
    }
   ],
   "source": [
    "#OS OLS R2 deneding on the number of variables t\n",
    "\n",
    "Number_variables=[]\n",
    "\n",
    "OLS_R_2_OS_F=[]\n",
    "OLS_R_2_IS_F=[]\n",
    "OLS_R_2_Ridge_OS_F=[]\n",
    "OLS_R_2_Ridge_IS_F=[]\n",
    "OLS_R_2_Lasso_OS_F=[]\n",
    "OLS_R_2_Lasso_IS_F=[]\n",
    "\n",
    "t=0\n",
    "\n",
    "##########################################################################################################\n",
    "##########################################################################################################\n",
    "\n",
    "for j in range(len(X_train.T)): #subsequently add variables\n",
    "    \n",
    "    t+=1\n",
    "    Number_variables.append(t)\n",
    "\n",
    "    #For OLS\n",
    "\n",
    "    result=ols(y=y_train,x=pd.DataFrame(X_train[:,0:j+1]))\n",
    "    temp=X_test[:,0:j+1]\n",
    "\n",
    "    a=np.array(temp)\n",
    "    b=np.array(result.beta)\n",
    "    c=np.sum(a*b[0:-1],axis=1)+b[-1]\n",
    "\n",
    "    error=y_test-c\n",
    "    R_2_OS_OLS=1-error.var()/y_test.var()\n",
    "    if R_2_OS_OLS>0:\n",
    "        OLS_R_2_OS_F.append(R_2_OS_OLS)\n",
    "    else:\n",
    "        OLS_R_2_OS_F.append(0)\n",
    "    \n",
    "    R_2_IS_OLS=result.r2\n",
    "    OLS_R_2_IS_F.append(R_2_IS_OLS)\n",
    "    \n",
    "    \n",
    "    #For Ridge\n",
    "\n",
    "    \n",
    "    Ridge=linear_model.Ridge(fit_intercept=True,alpha=40000)\n",
    "    Ridge.fit(X_train[:,0:j+1],y_train)\n",
    "    \n",
    "    # In the sample:\n",
    "    p_IS=Ridge.predict(X_train[:,0:j+1])\n",
    "    err_IS=p_IS-y_train\n",
    "    R_2_IS_Ridge=1-np.var(err_IS)/np.var(y_train)\n",
    "    OLS_R_2_Ridge_IS_F.append(R_2_IS_Ridge)\n",
    "    \n",
    "    #Out of sample\n",
    "    p_OS=Ridge.predict(X_test[:,0:j+1])\n",
    "    err_OS=p_OS-y_test\n",
    "    R_2_OS_Ridge=1-np.var(err_OS)/np.var(y_test)\n",
    "    \n",
    "    if R_2_OS_Ridge>0:\n",
    "        OLS_R_2_Ridge_OS_F.append(R_2_OS_Ridge)\n",
    "    else:\n",
    "        OLS_R_2_Ridge_OS_F.append(0)\n",
    "    \n",
    "\n",
    "#For Lasso\n",
    "    Lasso=linear_model.Lasso(fit_intercept=True, alpha=40)\n",
    "    Lasso.fit(X_train[:,0:j+1],y_train)\n",
    "    \n",
    "    #In the sample:\n",
    "    p_IS=Lasso.predict(X_train[:,0:j+1])\n",
    "    err_IS=p_IS-y_train\n",
    "    R_2_IS_Lasso=1-np.var(err_IS)/np.var(y_train)\n",
    "    OLS_R_2_Lasso_IS_F.append(R_2_IS_Lasso)\n",
    "  \n",
    " ###########################################################################    \n",
    "\n",
    "    #Out of sample\n",
    "    p_OS=Lasso.predict(X_test[:,0:j+1])\n",
    "    err_OS=p_OS-y_test\n",
    "    R_2_OS_Lasso=1-np.var(err_OS)/np.var(y_test)\n",
    "    if R_2_OS>0:\n",
    "        OLS_R_2_Lasso_OS_F.append(R_2_OS_Lasso)\n",
    "    else:\n",
    "        OLS_R_2_Lasso_OS_F.append(0)\n",
    "\n",
    "pylab.title('OS performance of OLS when we subsequently add variables')\n",
    "\n",
    "pylab.plot(Number_variables,OLS_R_2_IS_F,'g',label='R_squared_OLS_IS')\n",
    "pylab.plot(Number_variables,OLS_R_2_Lasso_IS_F,'y',label='R_squared_Lasso_IS')\n",
    "pylab.plot(Number_variables,OLS_R_2_Ridge_IS_F,'k',label='R_squard Ridge_IS')\n",
    "\n",
    "pylab.plot(Number_variables,OLS_R_2_OS_F,'b',label='R_squared_OLS_OS')\n",
    "pylab.plot(Number_variables,OLS_R_2_Lasso_OS_F,'c',label='R_squared_Lasso_OS')\n",
    "pylab.plot(Number_variables,OLS_R_2_Ridge_OS_F,'r',label='R_squard Ridge_OS')\n",
    "\n",
    "pylab.legend(loc='lower right')\n",
    "pylab.xlabel('Number of independent variables')\n",
    "pylab.ylabel('R-squared')\n",
    "pylab.legend(loc='lower right')\n",
    "pylab.show()"
   ]
  },
  {
   "cell_type": "markdown",
   "metadata": {},
   "source": [
    "# Extracredit (25% of credit to be applied towards this or any other homework)\n",
    "Using a series of 10 random splits (cross-validation) of the training sample into approximately 60% training and 40% validation samples perform the selection of the optimal $\\lambda$ for Ridge and Lasso regression: for each $\\lambda$ of the considered sequence compute an average validation R2 for the 10 splits considered and finally select the $\\lambda$ having the highest value for this average R2. Visualize the dependence of the said average cross-validation R2 over $\\lambda$ for Lasso and Ridge. Report the R2 computed over the test set for the Lasso and Ridge trained over the entire training set with the selected optimal values of $\\lambda$."
   ]
  },
  {
   "cell_type": "code",
   "execution_count": null,
   "metadata": {
    "collapsed": true
   },
   "outputs": [],
   "source": []
  }
 ],
 "metadata": {
  "kernelspec": {
   "display_name": "Python 2",
   "language": "python",
   "name": "python2"
  },
  "language_info": {
   "codemirror_mode": {
    "name": "ipython",
    "version": 2
   },
   "file_extension": ".py",
   "mimetype": "text/x-python",
   "name": "python",
   "nbconvert_exporter": "python",
   "pygments_lexer": "ipython2",
   "version": "2.7.10"
  }
 },
 "nbformat": 4,
 "nbformat_minor": 0
}
